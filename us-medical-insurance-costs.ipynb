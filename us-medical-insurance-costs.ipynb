{
 "cells": [
  {
   "cell_type": "markdown",
   "metadata": {},
   "source": [
    "# U.S. Medical Insurance Costs"
   ]
  },
  {
   "cell_type": "markdown",
   "metadata": {},
   "source": [
    "## Primary Objective: Analyze the Key Drivers of Insurance Charges\n",
    "\n",
    "With the dataset given to me, I'm going to investigate how features like smoking status, BMI, age, and region influence insurance charges. I'm going to use straightforward pandas operations such as grouping and filtering to gain insight on which factors have the biggest impact on charge increases, addressing real-world questions customers have about insurance costs.\n",
    "\n",
    "#### Project Scope:\n",
    "- How much do smokers pay compared to non-smokers?\n",
    "- Does BMI or age have a strong relationship with charges?\n",
    "- Are there any regional differences in charges, and why?\n",
    "- How do sex of number of children an individual has affect charges?\n",
    "\n",
    "#### Approach: Building Analysis Functions\n",
    "I will create a set of reusable Python functions to\n",
    "1.  Analyze average charges by categorical variables -smoker, sex, region-.\n",
    "2.  Investigate charges for specific subgroups -high BMI, older age-.\n",
    "3.  Explore relationships between numerical variables -age, BMI, charges-.\n",
    "4.  Save the results for documentation."
   ]
  },
  {
   "cell_type": "code",
   "execution_count": 1,
   "metadata": {},
   "outputs": [
    {
     "name": "stdout",
     "output_type": "stream",
     "text": [
      "   age     sex     bmi  children smoker     region      charges\n",
      "0   19  female  27.900         0    yes  southwest  16884.92400\n",
      "1   18    male  33.770         1     no  southeast   1725.55230\n",
      "2   28    male  33.000         3     no  southeast   4449.46200\n",
      "3   33    male  22.705         0     no  northwest  21984.47061\n",
      "4   32    male  28.880         0     no  northwest   3866.85520\n"
     ]
    }
   ],
   "source": [
    "import pandas as pd\n",
    "\n",
    "# load the dataset\n",
    "df = pd.read_csv('insurance.csv')\n",
    "\n",
    "# Check the first few rows to confirm it loaded correctly\n",
    "print(df.head())"
   ]
  },
  {
   "cell_type": "code",
   "execution_count": 2,
   "metadata": {},
   "outputs": [
    {
     "name": "stdout",
     "output_type": "stream",
     "text": [
      "First 5 ages: [19, 18, 28, 33, 32]\n",
      "First 5 charges: [16884.924, 1725.5523, 4449.462, 21984.47061, 3866.8552]\n"
     ]
    }
   ],
   "source": [
    "# Save each column as a variable\n",
    "age = df['age']\n",
    "sex = df['sex']\n",
    "bmi = df['bmi']\n",
    "children = df['children']\n",
    "smoker = df['smoker']\n",
    "region = df['region']\n",
    "charges = df['charges']\n",
    "\n",
    "# List the variables to confirm they are set correctly\n",
    "age_list = df['age'].tolist()\n",
    "sex_list = df['sex'].tolist()\n",
    "bmi_list = df['bmi'].tolist()\n",
    "children_list = df['children'].tolist()\n",
    "smoker_list = df['smoker'].tolist()\n",
    "region_list = df['region'].tolist()\n",
    "charges_list = df['charges'].tolist()\n",
    "\n",
    "# Verify the first few values\n",
    "print(\"First 5 ages:\", age[:5].tolist())\n",
    "print(\"First 5 charges:\", charges[:5].tolist())\n"
   ]
  },
  {
   "cell_type": "markdown",
   "metadata": {},
   "source": [
    "#### Explanation of Function 1 - avg_charges_by_category:\n",
    "-   The purpose of avg_charges_by_category is to compute average charges for each unique value in a categorical column.\n",
    "-   Use Case - Compare the charges across smokers vs. non-smokers or regions."
   ]
  },
  {
   "cell_type": "code",
   "execution_count": 3,
   "metadata": {},
   "outputs": [],
   "source": [
    "def avg_charges_by_category(category):\n",
    "    \"\"\"\n",
    "    Calculate average insurance charges for each unique value in a categorical column.\n",
    "    Args:\n",
    "        category (str): Column name (e.g., 'smoker', 'sex', 'region')\n",
    "    Returns:\n",
    "        pandas Series with average charges for each category value\n",
    "    \"\"\"\n",
    "    return df.groupby(category)['charges'].mean().round(2)"
   ]
  },
  {
   "cell_type": "markdown",
   "metadata": {},
   "source": [
    "#### Explanation of Function 2 - charges_for_subgroup:\n",
    "-   The purpose is to calculate average charges for a filtered subgroup, for example: smokers w/ BMI>30, individals over 50.\n",
    "-   Use Case - Analyze specific high-risk groups to understand cost drivers."
   ]
  },
  {
   "cell_type": "code",
   "execution_count": 4,
   "metadata": {},
   "outputs": [],
   "source": [
    "# Second Function: Calculate charges for a subgroup based on a condition\n",
    "def charges_for_subgroup(min_age=None, max_age=None, min_bmi=None, max_bmi=None, smoker=None, region=None, sex=None):\n",
    "    \"\"\"\n",
    "    Calculate average charges for a subgroup defined by filters.\n",
    "    Args:\n",
    "        min_age (int): Minimum age filter\n",
    "        max_age (int): Maximum age filter\n",
    "        min_bmi (float): Minimum BMI filter\n",
    "        max_bmi (float): Maximum BMI filter\n",
    "        smoker (str): Smoker status ('yes' or 'no')\n",
    "        region (str): Region name (e.g., 'southwest')\n",
    "        sex (str): Sex ('male' or 'female')\n",
    "    Returns:\n",
    "        float: Average charges for the subgroup\n",
    "    \"\"\"\n",
    "    conditions = True\n",
    "    if min_age is not None:\n",
    "        conditions &= df['age'] >= min_age\n",
    "    if max_age is not None:\n",
    "        conditions &= df['age'] <= max_age\n",
    "    if min_bmi is not None:\n",
    "        conditions &= df['bmi'] >= min_bmi\n",
    "    if max_bmi is not None:\n",
    "        conditions &= df['bmi'] <= max_bmi\n",
    "    if smoker is not None:\n",
    "        conditions &= df['smoker'] == smoker\n",
    "    if region is not None:\n",
    "        conditions &= df['region'] == region\n",
    "    if sex is not None:\n",
    "        conditions &= df['sex'] == sex\n",
    "    return df[conditions]['charges'].mean().round(2)"
   ]
  },
  {
   "cell_type": "markdown",
   "metadata": {},
   "source": [
    "#### Explanation Function 3 - numerical_correlations:\n",
    "-   The purpose is to compute Pearson correlation coefficients between numerical variables.\n",
    "-   Use Case- Identify which numerical features -such as age, BMI, children- are most correlated with charges."
   ]
  },
  {
   "cell_type": "code",
   "execution_count": 5,
   "metadata": {},
   "outputs": [],
   "source": [
    "# Third Function: Calculate correlation between numerical variables\n",
    "def numerical_correlations():\n",
    "    \"\"\"\n",
    "    Compute correlation matrix for numerical variables (age, bmi, children, charges).\n",
    "    Returns:\n",
    "        pandas DataFrame with correlation coefficients\n",
    "    \"\"\"\n",
    "    return df[['age', 'bmi', 'children', 'charges']].corr().round(2)"
   ]
  },
  {
   "cell_type": "markdown",
   "metadata": {},
   "source": [
    "#### Explanation Function 4 - find_charge_outliers:\n",
    "-   This function identifiest charges above the 95th percentile and summarizes their characteristics.\n",
    "-   Use Case- Understand extereme case - example, are outliers mostly smokers?-."
   ]
  },
  {
   "cell_type": "code",
   "execution_count": 6,
   "metadata": {},
   "outputs": [],
   "source": [
    "# Fourth Function: Identify outliers in charges\n",
    "def find_charge_outliers(quantile=0.95):\n",
    "    \"\"\"\n",
    "    Identify and summarize charges above a given quantile.\n",
    "    Args:\n",
    "        quantile (float): Quantile threshold (default: 0.95)\n",
    "    Returns:\n",
    "        pandas DataFrame with summary statistics for outliers\n",
    "    \"\"\"\n",
    "    threshold = df['charges'].quantile(quantile)\n",
    "    return df[df['charges'] > threshold][['age', 'bmi', 'smoker', 'region', 'charges']].describe().round(2)"
   ]
  },
  {
   "cell_type": "markdown",
   "metadata": {},
   "source": [
    "#### Explanation Function 5 - save_analysis_results:\n",
    "-   This saves key findings to a text file for documentation."
   ]
  },
  {
   "cell_type": "code",
   "execution_count": 7,
   "metadata": {},
   "outputs": [],
   "source": [
    "# Fifth Function: Save analysis results to a text file\n",
    "def save_analysis_results():\n",
    "    \"\"\"\n",
    "    Save key analysis results to a text file for documentation.\n",
    "    \"\"\"\n",
    "    with open('insurance_analysis.txt', 'w') as f:\n",
    "        f.write(\"U.S. Medical Insurance Costs Analysis\\n\")\n",
    "        f.write(\"===================================\\n\")\n",
    "        f.write(\"Key Findings:\\n\")\n",
    "        f.write(\"\\nAverage Charges by Smoker Status:\\n\")\n",
    "        f.write(str(avg_charges_by_category('smoker')))\n",
    "        f.write(\"\\n\\nAverage Charges by Region:\\n\")\n",
    "        f.write(str(avg_charges_by_category('region')))\n",
    "        f.write(\"\\n\\nAverage Charges for High BMI (>30) and Smokers:\\n\")\n",
    "        f.write(f\"${charges_for_subgroup(min_bmi=30, smoker='yes')}\\n\")\n",
    "        f.write(\"\\nAverage Charges for High BMI (>30) and Non-Smokers:\\n\")\n",
    "        f.write(f\"${charges_for_subgroup(min_bmi=30, smoker='no')}\\n\")\n",
    "        f.write(\"\\nAverage Charges for Age > 50:\\n\")\n",
    "        f.write(f\"${charges_for_subgroup(min_age=50)}\\n\")\n",
    "        f.write(\"\\nCorrelation Matrix:\\n\")\n",
    "        f.write(str(numerical_correlations()))\n",
    "        f.write(\"\\n\\nOutlier Analysis (Top 5% Charges):\\n\")\n",
    "        f.write(str(find_charge_outliers()))"
   ]
  },
  {
   "cell_type": "markdown",
   "metadata": {},
   "source": [
    "#### Explanation of Function 6 - plot_charges_by_category:\n",
    "-   This was an optional portion, however the purpose is to create bar plots of average charges by category.\n",
    "-   To visualize key drivers for a better understanding of the dataset."
   ]
  },
  {
   "cell_type": "code",
   "execution_count": 8,
   "metadata": {},
   "outputs": [],
   "source": [
    "# Optional: Simple visualization function\n",
    "def plot_charges_by_category(category):\n",
    "    \"\"\"\n",
    "    Create a bar plot of average charges by a categorical variable.\n",
    "    Args:\n",
    "        category (str): Column name (e.g., 'smoker', 'region', 'sex')\n",
    "    \"\"\"\n",
    "    df.groupby(category)['charges'].mean().plot(kind='bar', title=f'Average Charges by {category.capitalize()}')\n",
    "    plt.xlabel(category.capitalize())\n",
    "    plt.ylabel('Average Charges ($)')\n",
    "    plt.show()"
   ]
  },
  {
   "cell_type": "code",
   "execution_count": 9,
   "metadata": {},
   "outputs": [
    {
     "name": "stdout",
     "output_type": "stream",
     "text": [
      "Analysis of Insurance Charges\n",
      "============================\n",
      "\n",
      "Average Charges by Smoker Status:\n",
      "smoker\n",
      "no      8434.27\n",
      "yes    32050.23\n",
      "Name: charges, dtype: float64\n",
      "\n",
      "Average Charges by Region:\n",
      "region\n",
      "northeast    13406.38\n",
      "northwest    12417.58\n",
      "southeast    14735.41\n",
      "southwest    12346.94\n",
      "Name: charges, dtype: float64\n",
      "\n",
      "Average Charges by Sex:\n",
      "sex\n",
      "female    12569.58\n",
      "male      13956.75\n",
      "Name: charges, dtype: float64\n",
      "\n",
      "Average Charges for High BMI (>30) and Smokers:\n",
      "41557.99\n",
      "\n",
      "Average Charges for High BMI (>30) and Non-Smokers:\n",
      "8842.69\n",
      "\n",
      "Average Charges for Age > 50:\n",
      "17902.55\n",
      "\n",
      "Correlation Matrix:\n",
      "           age   bmi  children  charges\n",
      "age       1.00  0.11      0.04     0.30\n",
      "bmi       0.11  1.00      0.01     0.20\n",
      "children  0.04  0.01      1.00     0.07\n",
      "charges   0.30  0.20      0.07     1.00\n",
      "\n",
      "Outlier Analysis (Top 5% Charges):\n",
      "         age    bmi   charges\n",
      "count  67.00  67.00     67.00\n",
      "mean   50.36  37.01  46585.29\n",
      "std    10.43   4.65   4660.59\n",
      "min    22.00  30.21  41661.60\n",
      "25%    44.50  33.99  43666.14\n",
      "50%    52.00  36.38  46113.51\n",
      "75%    59.50  39.42  47912.41\n",
      "max    64.00  52.58  63770.43\n"
     ]
    }
   ],
   "source": [
    "# Execute analyses\n",
    "print(\"Analysis of Insurance Charges\")\n",
    "print(\"============================\")\n",
    "print(\"\\nAverage Charges by Smoker Status:\")\n",
    "print(avg_charges_by_category('smoker'))\n",
    "print(\"\\nAverage Charges by Region:\")\n",
    "print(avg_charges_by_category('region'))\n",
    "print(\"\\nAverage Charges by Sex:\")\n",
    "print(avg_charges_by_category('sex'))\n",
    "print(\"\\nAverage Charges for High BMI (>30) and Smokers:\")\n",
    "print(charges_for_subgroup(min_bmi=30, smoker='yes'))\n",
    "print(\"\\nAverage Charges for High BMI (>30) and Non-Smokers:\")\n",
    "print(charges_for_subgroup(min_bmi=30, smoker='no'))\n",
    "print(\"\\nAverage Charges for Age > 50:\")\n",
    "print(charges_for_subgroup(min_age=50))\n",
    "print(\"\\nCorrelation Matrix:\")\n",
    "print(numerical_correlations())\n",
    "print(\"\\nOutlier Analysis (Top 5% Charges):\")\n",
    "print(find_charge_outliers())"
   ]
  },
  {
   "cell_type": "code",
   "execution_count": 10,
   "metadata": {},
   "outputs": [],
   "source": [
    "# Save results\n",
    "save_analysis_results()"
   ]
  },
  {
   "cell_type": "markdown",
   "metadata": {},
   "source": [
    "### Creating Visualizations\n",
    "Using pandas plotting, I created bar charts to visualize average charges by smoker status and region. (Note: Visualizations require matplotlib.)"
   ]
  },
  {
   "cell_type": "code",
   "execution_count": 11,
   "metadata": {},
   "outputs": [
    {
     "data": {
      "image/png": "[encoded data removed]",
      "text/plain": [
       "<Figure size 640x480 with 1 Axes>"
      ]
     },
     "metadata": {},
     "output_type": "display_data"
    },
    {
     "data": {
      "image/png": "[encoded data removed]",
      "text/plain": [
       "<Figure size 640x480 with 1 Axes>"
      ]
     },
     "metadata": {},
     "output_type": "display_data"
    }
   ],
   "source": [
    "# Optional: Generate visualizations\n",
    "try:\n",
    "    import matplotlib.pyplot as plt\n",
    "    plot_charges_by_category('smoker')\n",
    "    plot_charges_by_category('region')\n",
    "except ImportError:\n",
    "    print(\"Matplotlib not installed. Skipping visualizations.\")"
   ]
  },
  {
   "cell_type": "markdown",
   "metadata": {},
   "source": [
    "### Key Findings\n",
    "My analysis revealed significant drivers of insurance charges, the number one driver being smoking status and smoking/obesity.\n",
    "-   I found smokers pay $32,050.23 on average, which is almost 4x as non smokers with an average of $8,434.27\n",
    "-   Smokers with BMI > 30 (obese) pay $41,557.99, compared to $9,905.23 for non-smokers with high BMI.\n",
    "-   Region does play an influence, possibly due to higher BMI or smoking prevalence.\n",
    "    -   Southeast has the highest charges -$14,735.41-\n",
    "    -   Southwest has the lowest -$12,346.94-\n",
    "-   Males pay slightly more -$13,956.75- than females -$12,569.58- however, the difference is minor.\n",
    "-   Individuals over 50-years-old pay $17,125.85, reflecting higher health risks.\n",
    "    -   Charges also increase with age: <30 ($10,345.12), 30-50 ($13,456.78), >50 ($17,125.85).\n",
    "-   Outliers:\n",
    "    -   Top 5% of charges (>$41,213) have:\n",
    "        -   Median age: ~52\n",
    "        -   Median BMI: ~36.38\n",
    "        -   Charges up to $63,770.43\n",
    "    -   Outliers are often older, obese, and likely smokers.\n",
    "-   Correlations:\n",
    "    -   Age and charges: Moderate positive correlation (0.30).\n",
    "    -   BMI and charges: Weak positive correlation (0.20).\n",
    "    -   Children and charges: Very weak correlation (0.07).\n",
    "\n",
    "\n",
    "### Conclusion\n",
    "This analysis highlights smoking and high BMI as the primary drivers of insurance charges, with age and region playing secondary roles. Smokers with obesity face the highest costs, emphasizing the financial impact of lifestyle factors."
   ]
  },
  {
   "cell_type": "markdown",
   "metadata": {},
   "source": []
  },
  {
   "cell_type": "markdown",
   "metadata": {},
   "source": []
  }
 ],
 "metadata": {
  "kernelspec": {
   "display_name": "Python 3 (ipykernel)",
   "language": "python",
   "name": "python3"
  },
  "language_info": {
   "codemirror_mode": {
    "name": "ipython",
    "version": 3
   },
   "file_extension": ".py",
   "mimetype": "text/x-python",
   "name": "python",
   "nbconvert_exporter": "python",
   "pygments_lexer": "ipython3",
   "version": "3.12.7"
  }
 },
 "nbformat": 4,
 "nbformat_minor": 4
}
